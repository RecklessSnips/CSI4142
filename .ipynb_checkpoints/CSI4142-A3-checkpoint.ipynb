{
 "cells": [
  {
   "cell_type": "markdown",
   "id": "1e0799e7-5818-47c6-8da6-2ea93a64f2d0",
   "metadata": {},
   "source": [
    "### **CSI 4142 Fundamentals of Data Science** <br/>\n",
    "*Assignment 3: Predictive analysis \n",
    "Regression and Classification*\n",
    "\n",
    "# 1. Identification\n",
    "Group number: 66\n",
    "\n",
    "Name: Ruoyu Liu<br/>\n",
    "Student Number:300176134\n",
    "\n",
    "Name: Chenxuan Gao<br/>\n",
    "Student Number:300229429\n",
    "\n",
    "# Exploratory Analysis\n",
    "\n",
    "## Import important libraries"
   ]
  },
  {
   "cell_type": "code",
   "execution_count": 1,
   "id": "5fe2a363-8241-4184-8d19-7574a0400ae0",
   "metadata": {},
   "outputs": [],
   "source": [
    "# Import libiary\n",
    "import pandas as pd\n",
    "import numpy as np\n",
    "import matplotlib.pyplot as plt\n",
    "import seaborn as sns"
   ]
  },
  {
   "cell_type": "markdown",
   "id": "58c51651-5221-4dfa-bbf3-64807734b4b1",
   "metadata": {},
   "source": [
    "## 2. Introduction"
   ]
  },
  {
   "cell_type": "markdown",
   "id": "7e3eb952-828e-42df-8464-866a51fd2197",
   "metadata": {},
   "source": [
    "The overall goal of this assignment is to become familiar with Predictive Analysis, both for regression \n",
    "(prediction of numerical values) and classification (prediction of a categorical value). For this part, we focus on training the dataset by using regression model for numerical prediction. The dataset we choose is Laptop price prediction. This dataset will finally show a test in laptop price prediction. "
   ]
  },
  {
   "cell_type": "markdown",
   "id": "b4c73537-bb12-436c-84b2-ee2fbf8705d7",
   "metadata": {},
   "source": [
    "## 3. Description"
   ]
  },
  {
   "cell_type": "code",
   "execution_count": 3,
   "id": "fd4c06cd-4197-4209-9eaf-8b4284d7126d",
   "metadata": {},
   "outputs": [
    {
     "name": "stdout",
     "output_type": "stream",
     "text": [
      "First 5 rows of the dataset:\n",
      "  Manufacturer   Model Name   Category Screen Size  \\\n",
      "0        Apple  MacBook Pro  Ultrabook       13.3\"   \n",
      "1        Apple  Macbook Air  Ultrabook       13.3\"   \n",
      "2           HP       250 G6   Notebook       15.6\"   \n",
      "3        Apple  MacBook Pro  Ultrabook       15.4\"   \n",
      "4        Apple  MacBook Pro  Ultrabook       13.3\"   \n",
      "\n",
      "                               Screen                         CPU   RAM  \\\n",
      "0  IPS Panel Retina Display 2560x1600        Intel Core i5 2.3GHz   8GB   \n",
      "1                            1440x900        Intel Core i5 1.8GHz   8GB   \n",
      "2                   Full HD 1920x1080  Intel Core i5 7200U 2.5GHz   8GB   \n",
      "3  IPS Panel Retina Display 2880x1800        Intel Core i7 2.7GHz  16GB   \n",
      "4  IPS Panel Retina Display 2560x1600        Intel Core i5 3.1GHz   8GB   \n",
      "\n",
      "               Storage                           GPU Operating System  \\\n",
      "0            128GB SSD  Intel Iris Plus Graphics 640            macOS   \n",
      "1  128GB Flash Storage        Intel HD Graphics 6000            macOS   \n",
      "2            256GB SSD         Intel HD Graphics 620            No OS   \n",
      "3            512GB SSD            AMD Radeon Pro 455            macOS   \n",
      "4            256GB SSD  Intel Iris Plus Graphics 650            macOS   \n",
      "\n",
      "  Operating System Version  Weight        Price  \n",
      "0                      NaN  1.37kg  11912523.48  \n",
      "1                      NaN  1.34kg   7993374.48  \n",
      "2                      NaN  1.86kg   5112900.00  \n",
      "3                      NaN  1.83kg  22563005.40  \n",
      "4                      NaN  1.37kg  16037611.20  \n"
     ]
    }
   ],
   "source": [
    "# we download the csv file to local and push it to github instead of import kaggle.\n",
    "url = \"https://raw.githubusercontent.com/30017134Ruoyu/CSI4142-A1/main/laptops_train.csv\"\n",
    "train_df = pd.read_csv(url)\n",
    "\n",
    "url = \"https://raw.githubusercontent.com/30017134Ruoyu/CSI4142-A1/main/laptops_test.csv\"\n",
    "tset_df = pd.read_csv(url)\n",
    "\n",
    "print(\"First 5 rows of the dataset:\")\n",
    "print(train_df.head())"
   ]
  },
  {
   "cell_type": "code",
   "execution_count": 5,
   "id": "f803317a-9ebe-47b6-9b08-a079a0efd533",
   "metadata": {},
   "outputs": [
    {
     "name": "stdout",
     "output_type": "stream",
     "text": [
      "Basic statistical description:\n",
      "              Price\n",
      "count  9.770000e+02\n",
      "mean   1.001899e+07\n",
      "std    6.306430e+06\n",
      "min    1.706375e+06\n",
      "25%    5.326308e+06\n",
      "50%    8.527428e+06\n",
      "75%    1.311570e+07\n",
      "max    5.423231e+07\n"
     ]
    }
   ],
   "source": [
    "print(\"Basic statistical description:\")\n",
    "print(train_df.describe())"
   ]
  },
  {
   "cell_type": "markdown",
   "id": "a68ba48b-c0b2-4985-8caf-c823cf0464c9",
   "metadata": {},
   "source": [
    "#### Dataset 1: Laptop price prediction.\n",
    "For the dataset description, make sure you include the following information: <br/>\n",
    "\n",
    "**Dataset name** laptop_train.csv (Laptop Price Prediction using specifications 💻)<br/>\n",
    "  **Author**: Unknown <br>\n",
    "  **Purpose** (what was it made for)： This dataset proves that several different factors can affect laptop computer prices. These factors include the brand of computer and the number of options and add-ons included in the computer package. <br/>\n",
    "  "
   ]
  },
  {
   "cell_type": "code",
   "execution_count": 7,
   "id": "4a1a4648-26ab-4a91-96eb-048c7dee5024",
   "metadata": {},
   "outputs": [
    {
     "name": "stdout",
     "output_type": "stream",
     "text": [
      "Dataset shape: (977, 13)\n"
     ]
    }
   ],
   "source": [
    "print(\"Dataset shape:\", train_df.shape)"
   ]
  },
  {
   "cell_type": "markdown",
   "id": "67017ded-a928-4f32-b729-d20e332a9dec",
   "metadata": {},
   "source": [
    "Shape: how many rows and columns：977 rows and 13 columns"
   ]
  },
  {
   "cell_type": "markdown",
   "id": "49e9837d-5841-40c4-9353-b849f797155d",
   "metadata": {},
   "source": [
    "• A list of the features + descriptions (what do they represent and are they categorical or\n",
    "numerical)<br/>"
   ]
  },
  {
   "cell_type": "code",
   "execution_count": 10,
   "id": "d1eefe19-ab18-45af-a053-5dab93dd967a",
   "metadata": {},
   "outputs": [
    {
     "name": "stdout",
     "output_type": "stream",
     "text": [
      "Dataset info:\n",
      "<class 'pandas.core.frame.DataFrame'>\n",
      "RangeIndex: 977 entries, 0 to 976\n",
      "Data columns (total 13 columns):\n",
      " #   Column                    Non-Null Count  Dtype  \n",
      "---  ------                    --------------  -----  \n",
      " 0   Manufacturer              977 non-null    object \n",
      " 1   Model Name                977 non-null    object \n",
      " 2   Category                  977 non-null    object \n",
      " 3   Screen Size               977 non-null    object \n",
      " 4   Screen                    977 non-null    object \n",
      " 5   CPU                       977 non-null    object \n",
      " 6   RAM                       977 non-null    object \n",
      " 7    Storage                  977 non-null    object \n",
      " 8   GPU                       977 non-null    object \n",
      " 9   Operating System          977 non-null    object \n",
      " 10  Operating System Version  841 non-null    object \n",
      " 11  Weight                    977 non-null    object \n",
      " 12  Price                     977 non-null    float64\n",
      "dtypes: float64(1), object(12)\n",
      "memory usage: 99.4+ KB\n",
      "None\n"
     ]
    }
   ],
   "source": [
    "print(\"Dataset info:\")\n",
    "print(train_df.info())"
   ]
  },
  {
   "cell_type": "markdown",
   "id": "6d2a1868-ce05-4d61-beda-1654e5c82339",
   "metadata": {},
   "source": [
    "Manufacturer: The brand of computers. **Categorical**  <br>\n",
    "Model Name: The specific model of the computer. **Categorical**  <br>\n",
    "Category: The type of usage of the computer. **Categorical**  <br>\n",
    "Screen Size: The size of screen. **Numerical**  <br>\n",
    "Screen: Resolution of screen. **Categorical**  <br>\n",
    "CPU： CPU of computer. **Categorical**  <br>\n",
    "RAM: The RAM of a computer. **Categorical**  <br>\n",
    "Storage: The memory of disk that computer can hold. **Categorical**  <br>\n",
    "GPU: GPU of computer. **Categorical**  <br>\n",
    "Operating System: OP of the computer. **Categorical**  <br>\n",
    "Operating System Version: The version of OP. **Categorical**  <br>\n",
    "Weight: The weight of computer. **Numerical**  <br>\n",
    "Price: The price of the computer. **Numerical**  <br>"
   ]
  },
  {
   "cell_type": "code",
   "execution_count": 11,
   "id": "57d55218-dbd8-4e8f-9a07-05d1ef563e24",
   "metadata": {},
   "outputs": [
    {
     "name": "stdout",
     "output_type": "stream",
     "text": [
      "Missing values in each column:\n",
      "Manufacturer                  0\n",
      "Model Name                    0\n",
      "Category                      0\n",
      "Screen Size                   0\n",
      "Screen                        0\n",
      "CPU                           0\n",
      "RAM                           0\n",
      " Storage                      0\n",
      "GPU                           0\n",
      "Operating System              0\n",
      "Operating System Version    136\n",
      "Weight                        0\n",
      "Price                         0\n",
      "dtype: int64\n",
      "\n",
      "Total missing values: 136\n"
     ]
    }
   ],
   "source": [
    "print(\"Missing values in each column:\")\n",
    "print(train_df.isnull().sum())\n",
    "print(\"\\nTotal missing values:\", train_df.isnull().sum().sum())"
   ]
  },
  {
   "cell_type": "code",
   "execution_count": null,
   "id": "d760f600-96c5-4fa0-ae76-9e1d5d86ed4b",
   "metadata": {},
   "outputs": [],
   "source": []
  }
 ],
 "metadata": {
  "kernelspec": {
   "display_name": "Python 3 (ipykernel)",
   "language": "python",
   "name": "python3"
  },
  "language_info": {
   "codemirror_mode": {
    "name": "ipython",
    "version": 3
   },
   "file_extension": ".py",
   "mimetype": "text/x-python",
   "name": "python",
   "nbconvert_exporter": "python",
   "pygments_lexer": "ipython3",
   "version": "3.12.6"
  }
 },
 "nbformat": 4,
 "nbformat_minor": 5
}
